{
 "cells": [
  {
   "cell_type": "markdown",
   "metadata": {},
   "source": [
    "<b>1. Suppose the coefficient matrix of a linear system of three equations in three\n",
    "variables has a pivot position in each column. Explain why the system\n",
    "has a unique solution.</b>\n",
    "\n",
    "Pivot cell can be defined as those holding the leading non-zero entry of each row, once we have taken our matrix to echelon form. If all our columns have one of those, then it means these pivots lie at different rows on each colum (otherwise, the rightmost cells repeating position will not be the first ones of their respective rows, contradicting the \"leading non-zero\" property).\n",
    "\n",
    "Above means that the columns have all possible positions of the diagonal, for holding those pivots; except perhaps due a different order. If we apply a proper permutation (sequence of row swaps, aka, elementary operations), we can take the echelon form into a lower triangular matrix where all one pivots are within the diagonal. Going further, we can take this matrix into the reduced echelon form; which will be pretty much the identity matrix. \n",
    "\n",
    "The identity matrix's columns form a linearly independent set (canonical basis actually), hence by Theorem 10 from the notes, there exists a unique solution to the system $A\\vec{x} = b$. The uniqueness is pretty much inherited from the uniqueness of the representation of $\\vec{b}$, respecto to the basis formed by the columns of $A$ (that is, $\\vec{x}$).\n",
    "\n",
    "\n",
    "\n",
    "\n"
   ]
  },
  {
   "cell_type": "markdown",
   "metadata": {},
   "source": [
    "<b>2. "
   ]
  }
 ],
 "metadata": {
  "kernelspec": {
   "display_name": "Python 2",
   "language": "python",
   "name": "python2"
  },
  "language_info": {
   "codemirror_mode": {
    "name": "ipython",
    "version": 2
   },
   "file_extension": ".py",
   "mimetype": "text/x-python",
   "name": "python",
   "nbconvert_exporter": "python",
   "pygments_lexer": "ipython2",
   "version": "2.7.13"
  }
 },
 "nbformat": 4,
 "nbformat_minor": 2
}
