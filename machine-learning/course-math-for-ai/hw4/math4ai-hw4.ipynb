{
 "cells": [
  {
   "cell_type": "markdown",
   "metadata": {},
   "source": [
    "X = Y, both are sets\n",
    "\n",
    "$X \\subset Y$\n",
    "\n",
    "Let $x \\in X$, pd $x \\in Y$\n",
    "\n",
    "x belongs to A_1, A_2, ..., A_n\n",
    "\n",
    "x belongs to A_1 AND\n",
    "x belongs to A_2 AND\n",
    "...\n",
    "x belongs to A_(n-1) AND\n",
    "x belongs to A_n \n",
    "\n",
    "all are true, then in particular the last one.\n",
    "\n",
    "therefore: x belongs to A_n \n",
    "\n",
    "let y in A_n, pd y in A_i, for all i\n",
    "\n",
    "como A_n is subset of all A_i, then y is also in A_i\n",
    "\n",
    "A_n is subset of all A_i\n",
    "\n",
    "$Y \\subset X$\n",
    "\n",
    "\n",
    "---------\n",
    "\n",
    "base case: n = 2\n",
    "\n",
    "A_2 U A_1 = A_1 ,  $A_2 \\cap A_1 = A_2$\n",
    "\n",
    "$A_2 \\subset A_1$\n",
    "\n",
    "Let $x \\in A_2 \\cup A_1$ pd $x \\in A_1$\n",
    "\n",
    "P(X >= 1) = 1 - P(0)\n",
    "P(X >= 3) = 1 - P(X <= 2) = 1 - [P(0) + P(1) + P(2)]\n",
    "\n",
    "\n",
    "\n",
    "\n"
   ]
  },
  {
   "cell_type": "code",
   "execution_count": 1,
   "metadata": {},
   "outputs": [
    {
     "name": "stdout",
     "output_type": "stream",
     "text": [
      "kk con queso\n"
     ]
    }
   ],
   "source": [
    "print('kk con queso')"
   ]
  },
  {
   "cell_type": "code",
   "execution_count": null,
   "metadata": {
    "collapsed": true
   },
   "outputs": [],
   "source": []
  }
 ],
 "metadata": {
  "kernelspec": {
   "display_name": "Python 2",
   "language": "python",
   "name": "python2"
  },
  "language_info": {
   "codemirror_mode": {
    "name": "ipython",
    "version": 2
   },
   "file_extension": ".py",
   "mimetype": "text/x-python",
   "name": "python",
   "nbconvert_exporter": "python",
   "pygments_lexer": "ipython2",
   "version": "2.7.13"
  }
 },
 "nbformat": 4,
 "nbformat_minor": 2
}
